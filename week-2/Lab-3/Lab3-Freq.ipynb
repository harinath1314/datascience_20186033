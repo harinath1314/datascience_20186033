{
 "cells": [
  {
   "cell_type": "code",
   "execution_count": 1,
   "metadata": {},
   "outputs": [],
   "source": [
    "import numpy as np\n",
    "import scipy as sp\n",
    "import matplotlib as mpl\n",
    "import matplotlib.cm as cm\n",
    "import matplotlib.pyplot as plt\n",
    "import pandas as pd\n",
    "import time\n",
    "pd.set_option('display.width', 500)\n",
    "pd.set_option('display.max_columns', 100)\n",
    "pd.set_option('display.notebook_repr_html', True)\n",
    "import seaborn as sns\n",
    "sns.set_style(\"whitegrid\")\n",
    "sns.set_context(\"poster\")"
   ]
  },
  {
   "cell_type": "code",
   "execution_count": 2,
   "metadata": {},
   "outputs": [
    {
     "data": {
      "text/html": [
       "<div>\n",
       "<style scoped>\n",
       "    .dataframe tbody tr th:only-of-type {\n",
       "        vertical-align: middle;\n",
       "    }\n",
       "\n",
       "    .dataframe tbody tr th {\n",
       "        vertical-align: top;\n",
       "    }\n",
       "\n",
       "    .dataframe thead th {\n",
       "        text-align: right;\n",
       "    }\n",
       "</style>\n",
       "<table border=\"1\" class=\"dataframe\">\n",
       "  <thead>\n",
       "    <tr style=\"text-align: right;\">\n",
       "      <th></th>\n",
       "      <th>24hrtime</th>\n",
       "      <th>sex</th>\n",
       "      <th>weight</th>\n",
       "      <th>minutes</th>\n",
       "    </tr>\n",
       "  </thead>\n",
       "  <tbody>\n",
       "    <tr>\n",
       "      <th>0</th>\n",
       "      <td>5</td>\n",
       "      <td>1</td>\n",
       "      <td>3837</td>\n",
       "      <td>5</td>\n",
       "    </tr>\n",
       "    <tr>\n",
       "      <th>1</th>\n",
       "      <td>104</td>\n",
       "      <td>1</td>\n",
       "      <td>3334</td>\n",
       "      <td>64</td>\n",
       "    </tr>\n",
       "    <tr>\n",
       "      <th>2</th>\n",
       "      <td>118</td>\n",
       "      <td>2</td>\n",
       "      <td>3554</td>\n",
       "      <td>78</td>\n",
       "    </tr>\n",
       "    <tr>\n",
       "      <th>3</th>\n",
       "      <td>155</td>\n",
       "      <td>2</td>\n",
       "      <td>3838</td>\n",
       "      <td>115</td>\n",
       "    </tr>\n",
       "    <tr>\n",
       "      <th>4</th>\n",
       "      <td>257</td>\n",
       "      <td>2</td>\n",
       "      <td>3625</td>\n",
       "      <td>177</td>\n",
       "    </tr>\n",
       "  </tbody>\n",
       "</table>\n",
       "</div>"
      ],
      "text/plain": [
       "   24hrtime  sex  weight  minutes\n",
       "0         5    1    3837        5\n",
       "1       104    1    3334       64\n",
       "2       118    2    3554       78\n",
       "3       155    2    3838      115\n",
       "4       257    2    3625      177"
      ]
     },
     "execution_count": 2,
     "metadata": {},
     "output_type": "execute_result"
    }
   ],
   "source": [
    "df = pd.read_csv(\"babyboom.dat.txt\", header=None, sep='\\s+', \n",
    "                   names=['24hrtime','sex','weight','minutes'])\n",
    "df.head()"
   ]
  },
  {
   "cell_type": "code",
   "execution_count": 3,
   "metadata": {},
   "outputs": [
    {
     "data": {
      "text/plain": [
       "788.7272727272727"
      ]
     },
     "execution_count": 3,
     "metadata": {},
     "output_type": "execute_result"
    }
   ],
   "source": [
    "df.minutes.mean()"
   ]
  },
  {
   "cell_type": "code",
   "execution_count": 4,
   "metadata": {},
   "outputs": [
    {
     "data": {
      "text/html": [
       "<div>\n",
       "<style scoped>\n",
       "    .dataframe tbody tr th:only-of-type {\n",
       "        vertical-align: middle;\n",
       "    }\n",
       "\n",
       "    .dataframe tbody tr th {\n",
       "        vertical-align: top;\n",
       "    }\n",
       "\n",
       "    .dataframe thead th {\n",
       "        text-align: right;\n",
       "    }\n",
       "</style>\n",
       "<table border=\"1\" class=\"dataframe\">\n",
       "  <thead>\n",
       "    <tr style=\"text-align: right;\">\n",
       "      <th></th>\n",
       "      <th>24hrtime</th>\n",
       "      <th>sex</th>\n",
       "      <th>weight</th>\n",
       "      <th>minutes</th>\n",
       "    </tr>\n",
       "  </thead>\n",
       "  <tbody>\n",
       "    <tr>\n",
       "      <th>24hrtime</th>\n",
       "      <td>1.000000</td>\n",
       "      <td>0.028027</td>\n",
       "      <td>0.075636</td>\n",
       "      <td>0.999840</td>\n",
       "    </tr>\n",
       "    <tr>\n",
       "      <th>sex</th>\n",
       "      <td>0.028027</td>\n",
       "      <td>1.000000</td>\n",
       "      <td>0.228751</td>\n",
       "      <td>0.031815</td>\n",
       "    </tr>\n",
       "    <tr>\n",
       "      <th>weight</th>\n",
       "      <td>0.075636</td>\n",
       "      <td>0.228751</td>\n",
       "      <td>1.000000</td>\n",
       "      <td>0.079616</td>\n",
       "    </tr>\n",
       "    <tr>\n",
       "      <th>minutes</th>\n",
       "      <td>0.999840</td>\n",
       "      <td>0.031815</td>\n",
       "      <td>0.079616</td>\n",
       "      <td>1.000000</td>\n",
       "    </tr>\n",
       "  </tbody>\n",
       "</table>\n",
       "</div>"
      ],
      "text/plain": [
       "          24hrtime       sex    weight   minutes\n",
       "24hrtime  1.000000  0.028027  0.075636  0.999840\n",
       "sex       0.028027  1.000000  0.228751  0.031815\n",
       "weight    0.075636  0.228751  1.000000  0.079616\n",
       "minutes   0.999840  0.031815  0.079616  1.000000"
      ]
     },
     "execution_count": 4,
     "metadata": {},
     "output_type": "execute_result"
    }
   ],
   "source": [
    "df.corr()"
   ]
  },
  {
   "cell_type": "code",
   "execution_count": 5,
   "metadata": {},
   "outputs": [
    {
     "ename": "TypeError",
     "evalue": "__init__() got an unexpected keyword argument 'height'",
     "output_type": "error",
     "traceback": [
      "\u001b[0;31m---------------------------------------------------------------------------\u001b[0m",
      "\u001b[0;31mTypeError\u001b[0m                                 Traceback (most recent call last)",
      "\u001b[0;32m<ipython-input-5-716c4df76c25>\u001b[0m in \u001b[0;36m<module>\u001b[0;34m()\u001b[0m\n\u001b[0;32m----> 1\u001b[0;31m \u001b[0mg\u001b[0m \u001b[0;34m=\u001b[0m \u001b[0msns\u001b[0m\u001b[0;34m.\u001b[0m\u001b[0mFacetGrid\u001b[0m\u001b[0;34m(\u001b[0m\u001b[0mcol\u001b[0m\u001b[0;34m=\u001b[0m\u001b[0;34m\"sex\"\u001b[0m\u001b[0;34m,\u001b[0m \u001b[0mdata\u001b[0m\u001b[0;34m=\u001b[0m\u001b[0mdf\u001b[0m\u001b[0;34m,\u001b[0m \u001b[0mheight\u001b[0m\u001b[0;34m=\u001b[0m\u001b[0;36m8\u001b[0m\u001b[0;34m)\u001b[0m\u001b[0;34m\u001b[0m\u001b[0m\n\u001b[0m\u001b[1;32m      2\u001b[0m \u001b[0mg\u001b[0m\u001b[0;34m.\u001b[0m\u001b[0mmap\u001b[0m\u001b[0;34m(\u001b[0m\u001b[0mplt\u001b[0m\u001b[0;34m.\u001b[0m\u001b[0mhist\u001b[0m\u001b[0;34m,\u001b[0m \u001b[0;34m\"weight\"\u001b[0m\u001b[0;34m)\u001b[0m\u001b[0;34m\u001b[0m\u001b[0m\n",
      "\u001b[0;31mTypeError\u001b[0m: __init__() got an unexpected keyword argument 'height'"
     ]
    }
   ],
   "source": [
    "g = sns.FacetGrid(col=\"sex\", data=df, height=8)\n",
    "g.map(plt.hist, \"weight\")"
   ]
  },
  {
   "cell_type": "code",
   "execution_count": null,
   "metadata": {},
   "outputs": [],
   "source": [
    "\n",
    "f = lambda x, l: l*np.exp(-l*x)*(x>0)\n",
    "xpts=np.arange(-2,3,0.1)\n",
    "plt.plot(xpts,f(xpts, 2),'o');\n",
    "plt.xlabel(\"x\")\n",
    "plt.ylabel(\"exponential pdf\")"
   ]
  },
  {
   "cell_type": "code",
   "execution_count": null,
   "metadata": {},
   "outputs": [],
   "source": [
    "from scipy.stats import expon\n",
    "\n",
    "x = np.linspace(0,4, 100)\n",
    "colors=sns.color_palette()\n",
    "\n",
    "lambda_ = [0.5, 1, 2, 4]\n",
    "plt.figure(figsize=(12,4))\n",
    "for l,c in zip(lambda_,colors):\n",
    "    plt.plot(x, expon.pdf(x, scale=1./l), lw=2, \n",
    "                color=c, label = \"$\\lambda = %.1f$\"%l)\n",
    "    plt.fill_between(x, expon.pdf(x, scale=1./l), color=c, alpha = .33)\n",
    "    \n",
    "plt.legend()\n",
    "plt.ylabel(\"PDF at $x$\")\n",
    "plt.xlabel(\"$x$\")\n",
    "plt.title(\"Probability density function of an Exponential random variable;\\\n",
    " differing $\\lambda$\");"
   ]
  },
  {
   "cell_type": "code",
   "execution_count": null,
   "metadata": {},
   "outputs": [],
   "source": [
    "from scipy.stats import expon\n",
    "plt.plot(xpts,expon.pdf(xpts, scale=1./2.),'o')\n",
    "plt.hist(expon.rvs(size=1000, scale=1./2.), density=True, alpha=0.5, bins=30);\n",
    "plt.xlabel(\"x\")\n",
    "plt.title(\"exponential pdf and samples(normalized)\");"
   ]
  },
  {
   "cell_type": "code",
   "execution_count": null,
   "metadata": {},
   "outputs": [],
   "source": [
    "rv = expon(scale=0.5)\n",
    "plt.plot(xpts,rv.pdf(xpts),'o')\n",
    "plt.hist(rv.rvs(size=1000), density=True, alpha=0.5, bins=30);\n",
    "plt.plot(xpts, rv.cdf(xpts));\n",
    "plt.xlabel(\"x\")\n",
    "plt.title(\"exponential pdf, cdf and samples(normalized)\");"
   ]
  },
  {
   "cell_type": "code",
   "execution_count": null,
   "metadata": {},
   "outputs": [],
   "source": [
    "timediffs = df.minutes.diff()[1:]\n",
    "timediffs.hist(bins=20);"
   ]
  },
  {
   "cell_type": "code",
   "execution_count": null,
   "metadata": {},
   "outputs": [],
   "source": [
    "lambda_from_mean = 1./timediffs.mean()\n",
    "print(lambda_from_mean, 1./lambda_from_mean)"
   ]
  },
  {
   "cell_type": "code",
   "execution_count": null,
   "metadata": {},
   "outputs": [],
   "source": [
    "\n",
    "minutes=np.arange(0, 160, 5)\n",
    "rv = expon(scale=1./lambda_from_mean)\n",
    "plt.plot(minutes,rv.pdf(minutes),'o')\n",
    "timediffs.hist(density=True, alpha=0.5);\n",
    "plt.xlabel(\"minutes\");\n",
    "plt.title(\"Normalized data and model for estimated $\\hat{\\lambda}$\");"
   ]
  },
  {
   "cell_type": "code",
   "execution_count": null,
   "metadata": {},
   "outputs": [],
   "source": [
    "from scipy.stats import poisson\n",
    "k = np.arange(15)\n",
    "plt.figure(figsize=(12,8))\n",
    "for i, lambda_ in enumerate([1, 2, 4, 6]):\n",
    "    plt.plot(k, poisson.pmf(k, lambda_), '-o', label=lambda_, color=colors[i])\n",
    "    plt.fill_between(k, poisson.pmf(k, lambda_), color=colors[i], alpha=0.5)\n",
    "    plt.legend()\n",
    "plt.title(\"Poisson distribution\")\n",
    "plt.ylabel(\"PDF at $k$\")\n",
    "plt.xlabel(\"$k$\");"
   ]
  },
  {
   "cell_type": "code",
   "execution_count": null,
   "metadata": {},
   "outputs": [],
   "source": [
    "per_hour = df.minutes // 60\n",
    "num_births_per_hour=df.groupby(per_hour).minutes.count()\n",
    "num_births_per_hour"
   ]
  },
  {
   "cell_type": "code",
   "execution_count": null,
   "metadata": {},
   "outputs": [],
   "source": [
    "num_births_per_hour.mean()"
   ]
  },
  {
   "cell_type": "code",
   "execution_count": null,
   "metadata": {},
   "outputs": [],
   "source": [
    "k = np.arange(5)\n",
    "plt.figure(figsize=(12,8))\n",
    "tcount=num_births_per_hour.sum()\n",
    "plt.hist(num_births_per_hour, alpha=0.4,  lw=3, density=True, label=\"normed hist\")\n",
    "sns.kdeplot(num_births_per_hour, label=\"kde\")\n",
    "plt.plot(k, poisson.pmf(k, num_births_per_hour.mean()), '-o',label=\"poisson\")\n",
    "plt.title(\"Baby births\")\n",
    "plt.xlabel(\"births per hour\")\n",
    "plt.ylabel(\"rate\")\n",
    "plt.legend();"
   ]
  },
  {
   "cell_type": "code",
   "execution_count": null,
   "metadata": {},
   "outputs": [],
   "source": [
    "from scipy.stats.distributions import bernoulli\n",
    "def throw_a_coin(n):\n",
    "    brv = bernoulli(0.5)\n",
    "    return brv.rvs(size=n)"
   ]
  },
  {
   "cell_type": "code",
   "execution_count": null,
   "metadata": {},
   "outputs": [],
   "source": [
    "def make_throws(number_of_samples, sample_size):\n",
    "    start=np.zeros((number_of_samples, sample_size), dtype=int)\n",
    "    for i in range(number_of_samples):\n",
    "        start[i,:]=throw_a_coin(sample_size)\n",
    "    return np.mean(start, axis=1)"
   ]
  },
  {
   "cell_type": "code",
   "execution_count": null,
   "metadata": {},
   "outputs": [],
   "source": [
    "sample_sizes=np.arange(1,1001,1)\n",
    "sample_means = [make_throws(number_of_samples=200, sample_size=i) for i in sample_sizes]"
   ]
  },
  {
   "cell_type": "code",
   "execution_count": null,
   "metadata": {},
   "outputs": [],
   "source": [
    "mean_of_sample_means = [np.mean(means) for means in sample_means]"
   ]
  },
  {
   "cell_type": "code",
   "execution_count": null,
   "metadata": {},
   "outputs": [],
   "source": [
    "plt.plot(sample_sizes, mean_of_sample_means);\n",
    "plt.ylim([0.480,0.520]);"
   ]
  },
  {
   "cell_type": "code",
   "execution_count": null,
   "metadata": {},
   "outputs": [],
   "source": [
    "M_samples=10000\n",
    "N_points = timediffs.shape[0]\n",
    "bs_np = np.random.choice(timediffs, size=(M_samples, N_points))\n",
    "sd_mean=np.mean(bs_np, axis=1)\n",
    "sd_std=np.std(bs_np, axis=1)\n",
    "plt.hist(sd_mean, bins=30, density=True, alpha=0.5,label=\"samples\");\n",
    "sns.kdeplot(sd_mean, label=\"inferred distribution\")\n",
    "plt.axvline(timediffs.mean(), 0, 1, color='r', label='Our Sample')\n",
    "plt.legend()"
   ]
  },
  {
   "cell_type": "code",
   "execution_count": null,
   "metadata": {},
   "outputs": [],
   "source": [
    "rv = expon(scale=1./lambda_from_mean)\n",
    "M_samples=10000\n",
    "N_points = timediffs.shape[0]\n",
    "bs_p = rv.rvs(size=(M_samples, N_points))\n",
    "sd_mean_p=np.mean(bs_p, axis=1)\n",
    "sd_std_p=np.std(bs_p, axis=1)\n",
    "plt.hist(sd_mean_p, bins=30, density=True, alpha=0.5);\n",
    "sns.kdeplot(sd_mean_p);\n",
    "plt.axvline(timediffs.mean(), 0, 1, color='r', label='Our Sample')"
   ]
  },
  {
   "cell_type": "code",
   "execution_count": null,
   "metadata": {},
   "outputs": [],
   "source": []
  }
 ],
 "metadata": {
  "kernelspec": {
   "display_name": "Python 3",
   "language": "python",
   "name": "python3"
  },
  "language_info": {
   "codemirror_mode": {
    "name": "ipython",
    "version": 3
   },
   "file_extension": ".py",
   "mimetype": "text/x-python",
   "name": "python",
   "nbconvert_exporter": "python",
   "pygments_lexer": "ipython3",
   "version": "3.6.5"
  }
 },
 "nbformat": 4,
 "nbformat_minor": 2
}
